{
 "cells": [
  {
   "cell_type": "code",
   "execution_count": 109,
   "metadata": {},
   "outputs": [],
   "source": [
    "import requests\n",
    "from bs4 import BeautifulSoup"
   ]
  },
  {
   "cell_type": "code",
   "execution_count": 169,
   "metadata": {},
   "outputs": [],
   "source": [
    "def getJobDetials(url):\n",
    "    if \"jobs/view/\" in url:\n",
    "        return scraper(url)\n",
    "    \n",
    "    elif 'position' in url:\n",
    "        hashMap = {}\n",
    "        for item in url.split('&'):\n",
    "            if \"position\" in item:\n",
    "                job_num = int(item.split('=')[1])\n",
    "                pageData = requests.get(url)\n",
    "                soup = BeautifulSoup(pageData.text, 'html.parser')\n",
    "                singlePageURL = soup.find(class_='jobs-search__results-list').find_all('li')[job_num-1].find('a').attrs['href']\n",
    "                return scraper(singlePageURL)\n",
    "    else:\n",
    "        return {}"
   ]
  },
  {
   "cell_type": "code",
   "execution_count": 167,
   "metadata": {},
   "outputs": [],
   "source": [
    "def scraper(url):\n",
    "    hashMap = {}\n",
    "    singlePageJobLisitng = requests.get(url)\n",
    "    soup = BeautifulSoup(singlePageJobLisitng.text, 'html.parser')\n",
    "    hashMap['job-title'] = soup.find(class_=\"topcard__title\").text\n",
    "    hashMap['job-location'] = soup.find(class_=\"topcard__flavor topcard__flavor--bullet\").text\n",
    "    hashMap['company-name'] = soup.find(class_=\"topcard__org-name-link topcard__flavor--black-link\").text.capitalize()\n",
    "    hashMap['company-icon'] = ''\n",
    "    hashMap['job-text'] = soup.find(class_='description__text description__text--rich').decode_contents()\n",
    "    return hashMap"
   ]
  },
  {
   "cell_type": "code",
   "execution_count": 170,
   "metadata": {},
   "outputs": [
    {
     "data": {
      "text/plain": [
       "{'job-title': 'Software Engineer, Intern/Co-op',\n",
       " 'job-location': 'New York City, NY, US',\n",
       " 'company-name': 'Facebook',\n",
       " 'company-icon': '',\n",
       " 'job-text': \"Facebook's mission is to give people the power to build community and bring the world closer together. Through our family of apps and services, we're building a different kind of company that connects billions of people around the world, gives them ways to share what matters most to them, and helps bring people closer together. Whether we're creating new products or helping a small business expand its reach, people at Facebook are builders at heart. Our global teams are constantly iterating, solving problems, and working together to empower people around the world to build community and connect in meaningful ways. Together, we can help people build stronger communities - we're just getting started.<br/><br/>Want to build new features and products that touch more than a billion people around the world? Want to build new features that improve existing products like Photos, Groups, NewsFeed, Search, and Messaging? Want to solve unique, large-scale, highly complex technical problems? Our development cycle is extremely fast, and we've built tools to keep it that way. It's common to write code and have it running live on the site hours later. If you work for us you will make an impact, immediately. Facebook is seeking interns/co-ops to join our engineering team. You can help build the next generation of systems behind Facebook's products, create web applications that reach millions of people, build high volume servers and be a part of a team that’s working to help connect people around the globe. This intern/co-op has a minimum twelve (12) week duration.<br/><br/><strong><u>Responsibilities<br/></u></strong><ul><li>Code high-volume software using primarily C++ and Java</li><li>Create web applications using primarily PHP</li><li>Implement web interfaces using XHTML, CSS, and JavaScript</li><li>Build report interfaces and data feeds<br/></li></ul><strong>Minimum Qualification<br/></strong><ul><li>1 or more years of experience with perl, java, php, python, or c++</li><li>Must be currently enrolled in a full-time, degree-seeking program and in the process of obtaining a Bachelors or Masters degree in Computer Science or a related field</li><li>Must obtain work authorization in country of employment at the time of hire, and maintain ongoing work authorization during employment<br/><br/></li></ul><strong><u>Preferred Qualification<br/></u></strong><ul><li>Demonstrated software engineering experience from previous internship, work experience, coding competitions, or publications</li><li>Intent to return to degree-program after the completion of the internship/co-op</li><li>High levels of creativity and quick problem-solving capabilities<br/></li></ul>Facebook is proud to be an Equal Opportunity and Affirmative Action employer. We do not discriminate based upon race, religion, color, national origin, sex (including pregnancy, childbirth, or related medical conditions), sexual orientation, gender, gender identity, gender expression, transgender status, sexual stereotypes, age, status as a protected veteran, status as an individual with a disability, or other applicable legally protected characteristics. We also consider qualified applicants with criminal histories, consistent with applicable federal, state and local law. Facebook is committed to providing reasonable accommodations for candidates with disabilities in our recruiting process. If you need any assistance or accommodations due to a disability, please let us know at accommodations-ext@fb.com.\"}"
      ]
     },
     "execution_count": 170,
     "metadata": {},
     "output_type": "execute_result"
    }
   ],
   "source": [
    "getJobDetials('https://www.linkedin.com/jobs/view/1486710672')"
   ]
  },
  {
   "cell_type": "code",
   "execution_count": null,
   "metadata": {},
   "outputs": [],
   "source": []
  },
  {
   "cell_type": "code",
   "execution_count": null,
   "metadata": {},
   "outputs": [],
   "source": []
  },
  {
   "cell_type": "code",
   "execution_count": null,
   "metadata": {},
   "outputs": [],
   "source": []
  }
 ],
 "metadata": {
  "kernelspec": {
   "display_name": "Python 3",
   "language": "python",
   "name": "python3"
  },
  "language_info": {
   "codemirror_mode": {
    "name": "ipython",
    "version": 3
   },
   "file_extension": ".py",
   "mimetype": "text/x-python",
   "name": "python",
   "nbconvert_exporter": "python",
   "pygments_lexer": "ipython3",
   "version": "3.7.3"
  }
 },
 "nbformat": 4,
 "nbformat_minor": 2
}
